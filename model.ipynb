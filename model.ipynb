{
  "nbformat": 4,
  "nbformat_minor": 0,
  "metadata": {
    "colab": {
      "provenance": [],
      "include_colab_link": true
    },
    "kernelspec": {
      "name": "python3",
      "display_name": "Python 3"
    },
    "language_info": {
      "name": "python"
    }
  },
  "cells": [
    {
      "cell_type": "markdown",
      "metadata": {
        "id": "view-in-github",
        "colab_type": "text"
      },
      "source": [
        "<a href=\"https://colab.research.google.com/github/Syeda-Mahjabin-Proma/Fabric-Wetness-Detection-Model-Using-ML/blob/main/model.ipynb\" target=\"_parent\"><img src=\"https://colab.research.google.com/assets/colab-badge.svg\" alt=\"Open In Colab\"/></a>"
      ]
    },
    {
      "cell_type": "markdown",
      "source": [
        "# Arduino code used to get the create the dataset for the system. #\n",
        "\n",
        "\n"
      ],
      "metadata": {
        "id": "QJXy0pVh69bj"
      }
    },
    {
      "cell_type": "markdown",
      "source": [
        "```\n",
        "\n",
        "#include <DHT.h>\n",
        "#define Type DHT22\n",
        "int sensePin=3;\n",
        "DHT HT(sensePin,Type);\n",
        "float humidity;\n",
        "float tempC;\n",
        "float tempF;\n",
        "\n",
        "int setTime = 500;\n",
        "int delayTime = 7000;\n",
        "int countDown = 1000;\n",
        "\n",
        "void setup() {\n",
        "    Serial.begin(9600);\n",
        "    HT.begin();\n",
        "    delay(setTime);\n",
        "}\n",
        "\n",
        "void loop() {\n",
        "    humidity=HT.readHumidity();\n",
        "    tempC=HT.readTemperature();\n",
        "    tempF=HT.readTemperature(true);\n",
        "    Serial.print(\">>>Reading Humidity and Sensor in \");\n",
        "    delay(countDown);\n",
        "    Serial.print(\"3,\");\n",
        "    delay(countDown);\n",
        "    Serial.print(\"2,\");\n",
        "    delay(countDown);\n",
        "    Serial.println(\"1...\");\n",
        "    Serial.print(\"Humidity: \");\n",
        "    Serial.print(humidity);\n",
        "    Serial.print(\" || Temperature C: \");\n",
        "    Serial.print(tempC);\n",
        "    Serial.print(\"°C\");\n",
        "    Serial.print(\" || Temperature F: \");\n",
        "    Serial.print(tempF);\n",
        "    Serial.println(\"°F\");\n",
        "    delay(delayTime);\n",
        "}\n",
        "\n",
        "```"
      ],
      "metadata": {
        "id": "LhyNBPEVZ0sS"
      }
    },
    {
      "cell_type": "markdown",
      "source": [
        "# Data Visualization & Preprocessing"
      ],
      "metadata": {
        "id": "vz0tErjC5nDe"
      }
    },
    {
      "cell_type": "markdown",
      "source": [
        "### Necessary Inputs"
      ],
      "metadata": {
        "id": "ahEIyjl2952l"
      }
    },
    {
      "cell_type": "code",
      "execution_count": 3,
      "metadata": {
        "id": "qEykweq72JwY",
        "colab": {
          "base_uri": "https://localhost:8080/"
        },
        "outputId": "64ed3421-55aa-4eaa-b9ab-546248eb4d20"
      },
      "outputs": [
        {
          "output_type": "stream",
          "name": "stdout",
          "text": [
            "Mounted at /content/drive/\n"
          ]
        }
      ],
      "source": [
        "import pandas as pd\n",
        "import numpy as np\n",
        "import matplotlib.pyplot as plt\n",
        "from sklearn.tree import DecisionTreeClassifier\n",
        "from sklearn.model_selection import train_test_split\n",
        "from sklearn.linear_model import LogisticRegression\n",
        "from sklearn.metrics import accuracy_score\n",
        "from mlxtend.plotting import plot_confusion_matrix\n",
        "from sklearn.metrics import confusion_matrix, classification_report\n",
        "from google.colab import drive\n",
        "drive.mount(\"/content/drive/\")"
      ]
    },
    {
      "cell_type": "markdown",
      "source": [
        "### Reading Dataset"
      ],
      "metadata": {
        "id": "8VFyHq_R-2BL"
      }
    },
    {
      "cell_type": "code",
      "source": [
        "fab_test = pd.read_csv(\"/content/drive/MyDrive/CSE427/Lab/Project/humidity_temp_dataset.csv\")"
      ],
      "metadata": {
        "id": "livhuMrC2hnq"
      },
      "execution_count": 4,
      "outputs": []
    },
    {
      "cell_type": "markdown",
      "source": [
        "### Describing Dataset"
      ],
      "metadata": {
        "id": "UC4iDuvp-9G8"
      }
    },
    {
      "cell_type": "code",
      "source": [
        "fab_test.head()"
      ],
      "metadata": {
        "colab": {
          "base_uri": "https://localhost:8080/",
          "height": 206
        },
        "id": "2z9N-cC2FZx1",
        "outputId": "0d9daeab-6834-4d2a-d9a9-55977f5b56ca"
      },
      "execution_count": 5,
      "outputs": [
        {
          "output_type": "execute_result",
          "data": {
            "text/plain": [
              "   Humidity  Temperature C  Room Temp  Room Humidity Dry/Wet\n",
              "0      73.5           31.0       31.0           73.1     Dry\n",
              "1      80.9           30.8       31.0           73.1     Wet\n",
              "2      81.9           30.7       31.0           73.1     Wet\n",
              "3      80.1           30.6       31.0           73.1     Wet\n",
              "4      76.4           30.6       31.0           73.1     Dry"
            ],
            "text/html": [
              "\n",
              "  <div id=\"df-a3776e26-1f73-4cd0-aa9a-a4dd17ee1cc5\" class=\"colab-df-container\">\n",
              "    <div>\n",
              "<style scoped>\n",
              "    .dataframe tbody tr th:only-of-type {\n",
              "        vertical-align: middle;\n",
              "    }\n",
              "\n",
              "    .dataframe tbody tr th {\n",
              "        vertical-align: top;\n",
              "    }\n",
              "\n",
              "    .dataframe thead th {\n",
              "        text-align: right;\n",
              "    }\n",
              "</style>\n",
              "<table border=\"1\" class=\"dataframe\">\n",
              "  <thead>\n",
              "    <tr style=\"text-align: right;\">\n",
              "      <th></th>\n",
              "      <th>Humidity</th>\n",
              "      <th>Temperature C</th>\n",
              "      <th>Room Temp</th>\n",
              "      <th>Room Humidity</th>\n",
              "      <th>Dry/Wet</th>\n",
              "    </tr>\n",
              "  </thead>\n",
              "  <tbody>\n",
              "    <tr>\n",
              "      <th>0</th>\n",
              "      <td>73.5</td>\n",
              "      <td>31.0</td>\n",
              "      <td>31.0</td>\n",
              "      <td>73.1</td>\n",
              "      <td>Dry</td>\n",
              "    </tr>\n",
              "    <tr>\n",
              "      <th>1</th>\n",
              "      <td>80.9</td>\n",
              "      <td>30.8</td>\n",
              "      <td>31.0</td>\n",
              "      <td>73.1</td>\n",
              "      <td>Wet</td>\n",
              "    </tr>\n",
              "    <tr>\n",
              "      <th>2</th>\n",
              "      <td>81.9</td>\n",
              "      <td>30.7</td>\n",
              "      <td>31.0</td>\n",
              "      <td>73.1</td>\n",
              "      <td>Wet</td>\n",
              "    </tr>\n",
              "    <tr>\n",
              "      <th>3</th>\n",
              "      <td>80.1</td>\n",
              "      <td>30.6</td>\n",
              "      <td>31.0</td>\n",
              "      <td>73.1</td>\n",
              "      <td>Wet</td>\n",
              "    </tr>\n",
              "    <tr>\n",
              "      <th>4</th>\n",
              "      <td>76.4</td>\n",
              "      <td>30.6</td>\n",
              "      <td>31.0</td>\n",
              "      <td>73.1</td>\n",
              "      <td>Dry</td>\n",
              "    </tr>\n",
              "  </tbody>\n",
              "</table>\n",
              "</div>\n",
              "    <div class=\"colab-df-buttons\">\n",
              "\n",
              "  <div class=\"colab-df-container\">\n",
              "    <button class=\"colab-df-convert\" onclick=\"convertToInteractive('df-a3776e26-1f73-4cd0-aa9a-a4dd17ee1cc5')\"\n",
              "            title=\"Convert this dataframe to an interactive table.\"\n",
              "            style=\"display:none;\">\n",
              "\n",
              "  <svg xmlns=\"http://www.w3.org/2000/svg\" height=\"24px\" viewBox=\"0 -960 960 960\">\n",
              "    <path d=\"M120-120v-720h720v720H120Zm60-500h600v-160H180v160Zm220 220h160v-160H400v160Zm0 220h160v-160H400v160ZM180-400h160v-160H180v160Zm440 0h160v-160H620v160ZM180-180h160v-160H180v160Zm440 0h160v-160H620v160Z\"/>\n",
              "  </svg>\n",
              "    </button>\n",
              "\n",
              "  <style>\n",
              "    .colab-df-container {\n",
              "      display:flex;\n",
              "      gap: 12px;\n",
              "    }\n",
              "\n",
              "    .colab-df-convert {\n",
              "      background-color: #E8F0FE;\n",
              "      border: none;\n",
              "      border-radius: 50%;\n",
              "      cursor: pointer;\n",
              "      display: none;\n",
              "      fill: #1967D2;\n",
              "      height: 32px;\n",
              "      padding: 0 0 0 0;\n",
              "      width: 32px;\n",
              "    }\n",
              "\n",
              "    .colab-df-convert:hover {\n",
              "      background-color: #E2EBFA;\n",
              "      box-shadow: 0px 1px 2px rgba(60, 64, 67, 0.3), 0px 1px 3px 1px rgba(60, 64, 67, 0.15);\n",
              "      fill: #174EA6;\n",
              "    }\n",
              "\n",
              "    .colab-df-buttons div {\n",
              "      margin-bottom: 4px;\n",
              "    }\n",
              "\n",
              "    [theme=dark] .colab-df-convert {\n",
              "      background-color: #3B4455;\n",
              "      fill: #D2E3FC;\n",
              "    }\n",
              "\n",
              "    [theme=dark] .colab-df-convert:hover {\n",
              "      background-color: #434B5C;\n",
              "      box-shadow: 0px 1px 3px 1px rgba(0, 0, 0, 0.15);\n",
              "      filter: drop-shadow(0px 1px 2px rgba(0, 0, 0, 0.3));\n",
              "      fill: #FFFFFF;\n",
              "    }\n",
              "  </style>\n",
              "\n",
              "    <script>\n",
              "      const buttonEl =\n",
              "        document.querySelector('#df-a3776e26-1f73-4cd0-aa9a-a4dd17ee1cc5 button.colab-df-convert');\n",
              "      buttonEl.style.display =\n",
              "        google.colab.kernel.accessAllowed ? 'block' : 'none';\n",
              "\n",
              "      async function convertToInteractive(key) {\n",
              "        const element = document.querySelector('#df-a3776e26-1f73-4cd0-aa9a-a4dd17ee1cc5');\n",
              "        const dataTable =\n",
              "          await google.colab.kernel.invokeFunction('convertToInteractive',\n",
              "                                                    [key], {});\n",
              "        if (!dataTable) return;\n",
              "\n",
              "        const docLinkHtml = 'Like what you see? Visit the ' +\n",
              "          '<a target=\"_blank\" href=https://colab.research.google.com/notebooks/data_table.ipynb>data table notebook</a>'\n",
              "          + ' to learn more about interactive tables.';\n",
              "        element.innerHTML = '';\n",
              "        dataTable['output_type'] = 'display_data';\n",
              "        await google.colab.output.renderOutput(dataTable, element);\n",
              "        const docLink = document.createElement('div');\n",
              "        docLink.innerHTML = docLinkHtml;\n",
              "        element.appendChild(docLink);\n",
              "      }\n",
              "    </script>\n",
              "  </div>\n",
              "\n",
              "\n",
              "<div id=\"df-34187e3d-8d2f-46d8-9a1d-d8d532dc3469\">\n",
              "  <button class=\"colab-df-quickchart\" onclick=\"quickchart('df-34187e3d-8d2f-46d8-9a1d-d8d532dc3469')\"\n",
              "            title=\"Suggest charts\"\n",
              "            style=\"display:none;\">\n",
              "\n",
              "<svg xmlns=\"http://www.w3.org/2000/svg\" height=\"24px\"viewBox=\"0 0 24 24\"\n",
              "     width=\"24px\">\n",
              "    <g>\n",
              "        <path d=\"M19 3H5c-1.1 0-2 .9-2 2v14c0 1.1.9 2 2 2h14c1.1 0 2-.9 2-2V5c0-1.1-.9-2-2-2zM9 17H7v-7h2v7zm4 0h-2V7h2v10zm4 0h-2v-4h2v4z\"/>\n",
              "    </g>\n",
              "</svg>\n",
              "  </button>\n",
              "\n",
              "<style>\n",
              "  .colab-df-quickchart {\n",
              "      --bg-color: #E8F0FE;\n",
              "      --fill-color: #1967D2;\n",
              "      --hover-bg-color: #E2EBFA;\n",
              "      --hover-fill-color: #174EA6;\n",
              "      --disabled-fill-color: #AAA;\n",
              "      --disabled-bg-color: #DDD;\n",
              "  }\n",
              "\n",
              "  [theme=dark] .colab-df-quickchart {\n",
              "      --bg-color: #3B4455;\n",
              "      --fill-color: #D2E3FC;\n",
              "      --hover-bg-color: #434B5C;\n",
              "      --hover-fill-color: #FFFFFF;\n",
              "      --disabled-bg-color: #3B4455;\n",
              "      --disabled-fill-color: #666;\n",
              "  }\n",
              "\n",
              "  .colab-df-quickchart {\n",
              "    background-color: var(--bg-color);\n",
              "    border: none;\n",
              "    border-radius: 50%;\n",
              "    cursor: pointer;\n",
              "    display: none;\n",
              "    fill: var(--fill-color);\n",
              "    height: 32px;\n",
              "    padding: 0;\n",
              "    width: 32px;\n",
              "  }\n",
              "\n",
              "  .colab-df-quickchart:hover {\n",
              "    background-color: var(--hover-bg-color);\n",
              "    box-shadow: 0 1px 2px rgba(60, 64, 67, 0.3), 0 1px 3px 1px rgba(60, 64, 67, 0.15);\n",
              "    fill: var(--button-hover-fill-color);\n",
              "  }\n",
              "\n",
              "  .colab-df-quickchart-complete:disabled,\n",
              "  .colab-df-quickchart-complete:disabled:hover {\n",
              "    background-color: var(--disabled-bg-color);\n",
              "    fill: var(--disabled-fill-color);\n",
              "    box-shadow: none;\n",
              "  }\n",
              "\n",
              "  .colab-df-spinner {\n",
              "    border: 2px solid var(--fill-color);\n",
              "    border-color: transparent;\n",
              "    border-bottom-color: var(--fill-color);\n",
              "    animation:\n",
              "      spin 1s steps(1) infinite;\n",
              "  }\n",
              "\n",
              "  @keyframes spin {\n",
              "    0% {\n",
              "      border-color: transparent;\n",
              "      border-bottom-color: var(--fill-color);\n",
              "      border-left-color: var(--fill-color);\n",
              "    }\n",
              "    20% {\n",
              "      border-color: transparent;\n",
              "      border-left-color: var(--fill-color);\n",
              "      border-top-color: var(--fill-color);\n",
              "    }\n",
              "    30% {\n",
              "      border-color: transparent;\n",
              "      border-left-color: var(--fill-color);\n",
              "      border-top-color: var(--fill-color);\n",
              "      border-right-color: var(--fill-color);\n",
              "    }\n",
              "    40% {\n",
              "      border-color: transparent;\n",
              "      border-right-color: var(--fill-color);\n",
              "      border-top-color: var(--fill-color);\n",
              "    }\n",
              "    60% {\n",
              "      border-color: transparent;\n",
              "      border-right-color: var(--fill-color);\n",
              "    }\n",
              "    80% {\n",
              "      border-color: transparent;\n",
              "      border-right-color: var(--fill-color);\n",
              "      border-bottom-color: var(--fill-color);\n",
              "    }\n",
              "    90% {\n",
              "      border-color: transparent;\n",
              "      border-bottom-color: var(--fill-color);\n",
              "    }\n",
              "  }\n",
              "</style>\n",
              "\n",
              "  <script>\n",
              "    async function quickchart(key) {\n",
              "      const quickchartButtonEl =\n",
              "        document.querySelector('#' + key + ' button');\n",
              "      quickchartButtonEl.disabled = true;  // To prevent multiple clicks.\n",
              "      quickchartButtonEl.classList.add('colab-df-spinner');\n",
              "      try {\n",
              "        const charts = await google.colab.kernel.invokeFunction(\n",
              "            'suggestCharts', [key], {});\n",
              "      } catch (error) {\n",
              "        console.error('Error during call to suggestCharts:', error);\n",
              "      }\n",
              "      quickchartButtonEl.classList.remove('colab-df-spinner');\n",
              "      quickchartButtonEl.classList.add('colab-df-quickchart-complete');\n",
              "    }\n",
              "    (() => {\n",
              "      let quickchartButtonEl =\n",
              "        document.querySelector('#df-34187e3d-8d2f-46d8-9a1d-d8d532dc3469 button');\n",
              "      quickchartButtonEl.style.display =\n",
              "        google.colab.kernel.accessAllowed ? 'block' : 'none';\n",
              "    })();\n",
              "  </script>\n",
              "</div>\n",
              "\n",
              "    </div>\n",
              "  </div>\n"
            ],
            "application/vnd.google.colaboratory.intrinsic+json": {
              "type": "dataframe",
              "variable_name": "fab_test",
              "summary": "{\n  \"name\": \"fab_test\",\n  \"rows\": 182,\n  \"fields\": [\n    {\n      \"column\": \"Humidity\",\n      \"properties\": {\n        \"dtype\": \"number\",\n        \"std\": 6.748911680871716,\n        \"min\": 63.0,\n        \"max\": 90.0,\n        \"num_unique_values\": 116,\n        \"samples\": [\n          69.0,\n          76.4,\n          70.6\n        ],\n        \"semantic_type\": \"\",\n        \"description\": \"\"\n      }\n    },\n    {\n      \"column\": \"Temperature C\",\n      \"properties\": {\n        \"dtype\": \"number\",\n        \"std\": 0.9877251927546252,\n        \"min\": 27.6,\n        \"max\": 31.9,\n        \"num_unique_values\": 38,\n        \"samples\": [\n          27.6,\n          29.7,\n          30.9\n        ],\n        \"semantic_type\": \"\",\n        \"description\": \"\"\n      }\n    },\n    {\n      \"column\": \"Room Temp\",\n      \"properties\": {\n        \"dtype\": \"number\",\n        \"std\": 0.39404220728954253,\n        \"min\": 30.2,\n        \"max\": 31.0,\n        \"num_unique_values\": 2,\n        \"samples\": [\n          30.2,\n          31.0\n        ],\n        \"semantic_type\": \"\",\n        \"description\": \"\"\n      }\n    },\n    {\n      \"column\": \"Room Humidity\",\n      \"properties\": {\n        \"dtype\": \"number\",\n        \"std\": 4.9393529143681185,\n        \"min\": 62.3,\n        \"max\": 73.1,\n        \"num_unique_values\": 3,\n        \"samples\": [\n          73.1,\n          62.3\n        ],\n        \"semantic_type\": \"\",\n        \"description\": \"\"\n      }\n    },\n    {\n      \"column\": \"Dry/Wet\",\n      \"properties\": {\n        \"dtype\": \"category\",\n        \"num_unique_values\": 2,\n        \"samples\": [\n          \"Wet\",\n          \"Dry\"\n        ],\n        \"semantic_type\": \"\",\n        \"description\": \"\"\n      }\n    }\n  ]\n}"
            }
          },
          "metadata": {},
          "execution_count": 5
        }
      ]
    },
    {
      "cell_type": "code",
      "source": [
        "fab_test.describe()"
      ],
      "metadata": {
        "colab": {
          "base_uri": "https://localhost:8080/",
          "height": 300
        },
        "id": "zBRhr4eJ_GwG",
        "outputId": "33a24224-df86-4412-82a3-0ab68d0c0671"
      },
      "execution_count": 6,
      "outputs": [
        {
          "output_type": "execute_result",
          "data": {
            "text/plain": [
              "         Humidity  Temperature C   Room Temp  Room Humidity\n",
              "count  182.000000     182.000000  182.000000     182.000000\n",
              "mean    76.412088      30.369780   30.674725      67.548352\n",
              "std      6.748912       0.987725    0.394042       4.939353\n",
              "min     63.000000      27.600000   30.200000      62.300000\n",
              "25%     71.600000      30.000000   30.200000      62.300000\n",
              "50%     75.400000      30.500000   31.000000      66.500000\n",
              "75%     81.900000      31.000000   31.000000      73.100000\n",
              "max     90.000000      31.900000   31.000000      73.100000"
            ],
            "text/html": [
              "\n",
              "  <div id=\"df-87e2158b-d439-4ae2-adfb-d6a9190e8dfe\" class=\"colab-df-container\">\n",
              "    <div>\n",
              "<style scoped>\n",
              "    .dataframe tbody tr th:only-of-type {\n",
              "        vertical-align: middle;\n",
              "    }\n",
              "\n",
              "    .dataframe tbody tr th {\n",
              "        vertical-align: top;\n",
              "    }\n",
              "\n",
              "    .dataframe thead th {\n",
              "        text-align: right;\n",
              "    }\n",
              "</style>\n",
              "<table border=\"1\" class=\"dataframe\">\n",
              "  <thead>\n",
              "    <tr style=\"text-align: right;\">\n",
              "      <th></th>\n",
              "      <th>Humidity</th>\n",
              "      <th>Temperature C</th>\n",
              "      <th>Room Temp</th>\n",
              "      <th>Room Humidity</th>\n",
              "    </tr>\n",
              "  </thead>\n",
              "  <tbody>\n",
              "    <tr>\n",
              "      <th>count</th>\n",
              "      <td>182.000000</td>\n",
              "      <td>182.000000</td>\n",
              "      <td>182.000000</td>\n",
              "      <td>182.000000</td>\n",
              "    </tr>\n",
              "    <tr>\n",
              "      <th>mean</th>\n",
              "      <td>76.412088</td>\n",
              "      <td>30.369780</td>\n",
              "      <td>30.674725</td>\n",
              "      <td>67.548352</td>\n",
              "    </tr>\n",
              "    <tr>\n",
              "      <th>std</th>\n",
              "      <td>6.748912</td>\n",
              "      <td>0.987725</td>\n",
              "      <td>0.394042</td>\n",
              "      <td>4.939353</td>\n",
              "    </tr>\n",
              "    <tr>\n",
              "      <th>min</th>\n",
              "      <td>63.000000</td>\n",
              "      <td>27.600000</td>\n",
              "      <td>30.200000</td>\n",
              "      <td>62.300000</td>\n",
              "    </tr>\n",
              "    <tr>\n",
              "      <th>25%</th>\n",
              "      <td>71.600000</td>\n",
              "      <td>30.000000</td>\n",
              "      <td>30.200000</td>\n",
              "      <td>62.300000</td>\n",
              "    </tr>\n",
              "    <tr>\n",
              "      <th>50%</th>\n",
              "      <td>75.400000</td>\n",
              "      <td>30.500000</td>\n",
              "      <td>31.000000</td>\n",
              "      <td>66.500000</td>\n",
              "    </tr>\n",
              "    <tr>\n",
              "      <th>75%</th>\n",
              "      <td>81.900000</td>\n",
              "      <td>31.000000</td>\n",
              "      <td>31.000000</td>\n",
              "      <td>73.100000</td>\n",
              "    </tr>\n",
              "    <tr>\n",
              "      <th>max</th>\n",
              "      <td>90.000000</td>\n",
              "      <td>31.900000</td>\n",
              "      <td>31.000000</td>\n",
              "      <td>73.100000</td>\n",
              "    </tr>\n",
              "  </tbody>\n",
              "</table>\n",
              "</div>\n",
              "    <div class=\"colab-df-buttons\">\n",
              "\n",
              "  <div class=\"colab-df-container\">\n",
              "    <button class=\"colab-df-convert\" onclick=\"convertToInteractive('df-87e2158b-d439-4ae2-adfb-d6a9190e8dfe')\"\n",
              "            title=\"Convert this dataframe to an interactive table.\"\n",
              "            style=\"display:none;\">\n",
              "\n",
              "  <svg xmlns=\"http://www.w3.org/2000/svg\" height=\"24px\" viewBox=\"0 -960 960 960\">\n",
              "    <path d=\"M120-120v-720h720v720H120Zm60-500h600v-160H180v160Zm220 220h160v-160H400v160Zm0 220h160v-160H400v160ZM180-400h160v-160H180v160Zm440 0h160v-160H620v160ZM180-180h160v-160H180v160Zm440 0h160v-160H620v160Z\"/>\n",
              "  </svg>\n",
              "    </button>\n",
              "\n",
              "  <style>\n",
              "    .colab-df-container {\n",
              "      display:flex;\n",
              "      gap: 12px;\n",
              "    }\n",
              "\n",
              "    .colab-df-convert {\n",
              "      background-color: #E8F0FE;\n",
              "      border: none;\n",
              "      border-radius: 50%;\n",
              "      cursor: pointer;\n",
              "      display: none;\n",
              "      fill: #1967D2;\n",
              "      height: 32px;\n",
              "      padding: 0 0 0 0;\n",
              "      width: 32px;\n",
              "    }\n",
              "\n",
              "    .colab-df-convert:hover {\n",
              "      background-color: #E2EBFA;\n",
              "      box-shadow: 0px 1px 2px rgba(60, 64, 67, 0.3), 0px 1px 3px 1px rgba(60, 64, 67, 0.15);\n",
              "      fill: #174EA6;\n",
              "    }\n",
              "\n",
              "    .colab-df-buttons div {\n",
              "      margin-bottom: 4px;\n",
              "    }\n",
              "\n",
              "    [theme=dark] .colab-df-convert {\n",
              "      background-color: #3B4455;\n",
              "      fill: #D2E3FC;\n",
              "    }\n",
              "\n",
              "    [theme=dark] .colab-df-convert:hover {\n",
              "      background-color: #434B5C;\n",
              "      box-shadow: 0px 1px 3px 1px rgba(0, 0, 0, 0.15);\n",
              "      filter: drop-shadow(0px 1px 2px rgba(0, 0, 0, 0.3));\n",
              "      fill: #FFFFFF;\n",
              "    }\n",
              "  </style>\n",
              "\n",
              "    <script>\n",
              "      const buttonEl =\n",
              "        document.querySelector('#df-87e2158b-d439-4ae2-adfb-d6a9190e8dfe button.colab-df-convert');\n",
              "      buttonEl.style.display =\n",
              "        google.colab.kernel.accessAllowed ? 'block' : 'none';\n",
              "\n",
              "      async function convertToInteractive(key) {\n",
              "        const element = document.querySelector('#df-87e2158b-d439-4ae2-adfb-d6a9190e8dfe');\n",
              "        const dataTable =\n",
              "          await google.colab.kernel.invokeFunction('convertToInteractive',\n",
              "                                                    [key], {});\n",
              "        if (!dataTable) return;\n",
              "\n",
              "        const docLinkHtml = 'Like what you see? Visit the ' +\n",
              "          '<a target=\"_blank\" href=https://colab.research.google.com/notebooks/data_table.ipynb>data table notebook</a>'\n",
              "          + ' to learn more about interactive tables.';\n",
              "        element.innerHTML = '';\n",
              "        dataTable['output_type'] = 'display_data';\n",
              "        await google.colab.output.renderOutput(dataTable, element);\n",
              "        const docLink = document.createElement('div');\n",
              "        docLink.innerHTML = docLinkHtml;\n",
              "        element.appendChild(docLink);\n",
              "      }\n",
              "    </script>\n",
              "  </div>\n",
              "\n",
              "\n",
              "<div id=\"df-97ca0dca-5a6b-4774-814c-c4a61cc2c0d4\">\n",
              "  <button class=\"colab-df-quickchart\" onclick=\"quickchart('df-97ca0dca-5a6b-4774-814c-c4a61cc2c0d4')\"\n",
              "            title=\"Suggest charts\"\n",
              "            style=\"display:none;\">\n",
              "\n",
              "<svg xmlns=\"http://www.w3.org/2000/svg\" height=\"24px\"viewBox=\"0 0 24 24\"\n",
              "     width=\"24px\">\n",
              "    <g>\n",
              "        <path d=\"M19 3H5c-1.1 0-2 .9-2 2v14c0 1.1.9 2 2 2h14c1.1 0 2-.9 2-2V5c0-1.1-.9-2-2-2zM9 17H7v-7h2v7zm4 0h-2V7h2v10zm4 0h-2v-4h2v4z\"/>\n",
              "    </g>\n",
              "</svg>\n",
              "  </button>\n",
              "\n",
              "<style>\n",
              "  .colab-df-quickchart {\n",
              "      --bg-color: #E8F0FE;\n",
              "      --fill-color: #1967D2;\n",
              "      --hover-bg-color: #E2EBFA;\n",
              "      --hover-fill-color: #174EA6;\n",
              "      --disabled-fill-color: #AAA;\n",
              "      --disabled-bg-color: #DDD;\n",
              "  }\n",
              "\n",
              "  [theme=dark] .colab-df-quickchart {\n",
              "      --bg-color: #3B4455;\n",
              "      --fill-color: #D2E3FC;\n",
              "      --hover-bg-color: #434B5C;\n",
              "      --hover-fill-color: #FFFFFF;\n",
              "      --disabled-bg-color: #3B4455;\n",
              "      --disabled-fill-color: #666;\n",
              "  }\n",
              "\n",
              "  .colab-df-quickchart {\n",
              "    background-color: var(--bg-color);\n",
              "    border: none;\n",
              "    border-radius: 50%;\n",
              "    cursor: pointer;\n",
              "    display: none;\n",
              "    fill: var(--fill-color);\n",
              "    height: 32px;\n",
              "    padding: 0;\n",
              "    width: 32px;\n",
              "  }\n",
              "\n",
              "  .colab-df-quickchart:hover {\n",
              "    background-color: var(--hover-bg-color);\n",
              "    box-shadow: 0 1px 2px rgba(60, 64, 67, 0.3), 0 1px 3px 1px rgba(60, 64, 67, 0.15);\n",
              "    fill: var(--button-hover-fill-color);\n",
              "  }\n",
              "\n",
              "  .colab-df-quickchart-complete:disabled,\n",
              "  .colab-df-quickchart-complete:disabled:hover {\n",
              "    background-color: var(--disabled-bg-color);\n",
              "    fill: var(--disabled-fill-color);\n",
              "    box-shadow: none;\n",
              "  }\n",
              "\n",
              "  .colab-df-spinner {\n",
              "    border: 2px solid var(--fill-color);\n",
              "    border-color: transparent;\n",
              "    border-bottom-color: var(--fill-color);\n",
              "    animation:\n",
              "      spin 1s steps(1) infinite;\n",
              "  }\n",
              "\n",
              "  @keyframes spin {\n",
              "    0% {\n",
              "      border-color: transparent;\n",
              "      border-bottom-color: var(--fill-color);\n",
              "      border-left-color: var(--fill-color);\n",
              "    }\n",
              "    20% {\n",
              "      border-color: transparent;\n",
              "      border-left-color: var(--fill-color);\n",
              "      border-top-color: var(--fill-color);\n",
              "    }\n",
              "    30% {\n",
              "      border-color: transparent;\n",
              "      border-left-color: var(--fill-color);\n",
              "      border-top-color: var(--fill-color);\n",
              "      border-right-color: var(--fill-color);\n",
              "    }\n",
              "    40% {\n",
              "      border-color: transparent;\n",
              "      border-right-color: var(--fill-color);\n",
              "      border-top-color: var(--fill-color);\n",
              "    }\n",
              "    60% {\n",
              "      border-color: transparent;\n",
              "      border-right-color: var(--fill-color);\n",
              "    }\n",
              "    80% {\n",
              "      border-color: transparent;\n",
              "      border-right-color: var(--fill-color);\n",
              "      border-bottom-color: var(--fill-color);\n",
              "    }\n",
              "    90% {\n",
              "      border-color: transparent;\n",
              "      border-bottom-color: var(--fill-color);\n",
              "    }\n",
              "  }\n",
              "</style>\n",
              "\n",
              "  <script>\n",
              "    async function quickchart(key) {\n",
              "      const quickchartButtonEl =\n",
              "        document.querySelector('#' + key + ' button');\n",
              "      quickchartButtonEl.disabled = true;  // To prevent multiple clicks.\n",
              "      quickchartButtonEl.classList.add('colab-df-spinner');\n",
              "      try {\n",
              "        const charts = await google.colab.kernel.invokeFunction(\n",
              "            'suggestCharts', [key], {});\n",
              "      } catch (error) {\n",
              "        console.error('Error during call to suggestCharts:', error);\n",
              "      }\n",
              "      quickchartButtonEl.classList.remove('colab-df-spinner');\n",
              "      quickchartButtonEl.classList.add('colab-df-quickchart-complete');\n",
              "    }\n",
              "    (() => {\n",
              "      let quickchartButtonEl =\n",
              "        document.querySelector('#df-97ca0dca-5a6b-4774-814c-c4a61cc2c0d4 button');\n",
              "      quickchartButtonEl.style.display =\n",
              "        google.colab.kernel.accessAllowed ? 'block' : 'none';\n",
              "    })();\n",
              "  </script>\n",
              "</div>\n",
              "\n",
              "    </div>\n",
              "  </div>\n"
            ],
            "application/vnd.google.colaboratory.intrinsic+json": {
              "type": "dataframe",
              "summary": "{\n  \"name\": \"fab_test\",\n  \"rows\": 8,\n  \"fields\": [\n    {\n      \"column\": \"Humidity\",\n      \"properties\": {\n        \"dtype\": \"number\",\n        \"std\": 48.19705509480376,\n        \"min\": 6.748911680871716,\n        \"max\": 182.0,\n        \"num_unique_values\": 8,\n        \"samples\": [\n          76.41208791208791,\n          75.4,\n          182.0\n        ],\n        \"semantic_type\": \"\",\n        \"description\": \"\"\n      }\n    },\n    {\n      \"column\": \"Temperature C\",\n      \"properties\": {\n        \"dtype\": \"number\",\n        \"std\": 56.09095952474807,\n        \"min\": 0.9877251927546252,\n        \"max\": 182.0,\n        \"num_unique_values\": 8,\n        \"samples\": [\n          30.369780219780214,\n          30.5,\n          182.0\n        ],\n        \"semantic_type\": \"\",\n        \"description\": \"\"\n      }\n    },\n    {\n      \"column\": \"Room Temp\",\n      \"properties\": {\n        \"dtype\": \"number\",\n        \"std\": 56.04176293172239,\n        \"min\": 0.39404220728954253,\n        \"max\": 182.0,\n        \"num_unique_values\": 5,\n        \"samples\": [\n          30.674725274725272,\n          31.0,\n          0.39404220728954253\n        ],\n        \"semantic_type\": \"\",\n        \"description\": \"\"\n      }\n    },\n    {\n      \"column\": \"Room Humidity\",\n      \"properties\": {\n        \"dtype\": \"number\",\n        \"std\": 48.999476832003644,\n        \"min\": 4.9393529143681185,\n        \"max\": 182.0,\n        \"num_unique_values\": 6,\n        \"samples\": [\n          182.0,\n          67.54835164835166,\n          73.1\n        ],\n        \"semantic_type\": \"\",\n        \"description\": \"\"\n      }\n    }\n  ]\n}"
            }
          },
          "metadata": {},
          "execution_count": 6
        }
      ]
    },
    {
      "cell_type": "markdown",
      "source": [
        "### Unique Value Check"
      ],
      "metadata": {
        "id": "jWE4kLIRACpk"
      }
    },
    {
      "cell_type": "code",
      "source": [
        "fab_test.nunique()"
      ],
      "metadata": {
        "colab": {
          "base_uri": "https://localhost:8080/",
          "height": 241
        },
        "id": "N2o2Kow7AGno",
        "outputId": "e9d8e055-5162-4791-ad65-9bb36428e3d1"
      },
      "execution_count": 13,
      "outputs": [
        {
          "output_type": "execute_result",
          "data": {
            "text/plain": [
              "Humidity         116\n",
              "Temperature C     38\n",
              "Room Temp          2\n",
              "Room Humidity      3\n",
              "Dry/Wet            2\n",
              "dtype: int64"
            ],
            "text/html": [
              "<div>\n",
              "<style scoped>\n",
              "    .dataframe tbody tr th:only-of-type {\n",
              "        vertical-align: middle;\n",
              "    }\n",
              "\n",
              "    .dataframe tbody tr th {\n",
              "        vertical-align: top;\n",
              "    }\n",
              "\n",
              "    .dataframe thead th {\n",
              "        text-align: right;\n",
              "    }\n",
              "</style>\n",
              "<table border=\"1\" class=\"dataframe\">\n",
              "  <thead>\n",
              "    <tr style=\"text-align: right;\">\n",
              "      <th></th>\n",
              "      <th>0</th>\n",
              "    </tr>\n",
              "  </thead>\n",
              "  <tbody>\n",
              "    <tr>\n",
              "      <th>Humidity</th>\n",
              "      <td>116</td>\n",
              "    </tr>\n",
              "    <tr>\n",
              "      <th>Temperature C</th>\n",
              "      <td>38</td>\n",
              "    </tr>\n",
              "    <tr>\n",
              "      <th>Room Temp</th>\n",
              "      <td>2</td>\n",
              "    </tr>\n",
              "    <tr>\n",
              "      <th>Room Humidity</th>\n",
              "      <td>3</td>\n",
              "    </tr>\n",
              "    <tr>\n",
              "      <th>Dry/Wet</th>\n",
              "      <td>2</td>\n",
              "    </tr>\n",
              "  </tbody>\n",
              "</table>\n",
              "</div><br><label><b>dtype:</b> int64</label>"
            ]
          },
          "metadata": {},
          "execution_count": 13
        }
      ]
    },
    {
      "cell_type": "markdown",
      "source": [
        "### Checking the dataset of different column"
      ],
      "metadata": {
        "id": "zW5hd5x7AOOz"
      }
    },
    {
      "cell_type": "code",
      "source": [
        "fab_test.dtypes"
      ],
      "metadata": {
        "colab": {
          "base_uri": "https://localhost:8080/",
          "height": 241
        },
        "id": "SG9rWY0nAR3l",
        "outputId": "7128e7a1-19ac-43cd-a4ed-66fc8e035f0b"
      },
      "execution_count": 14,
      "outputs": [
        {
          "output_type": "execute_result",
          "data": {
            "text/plain": [
              "Humidity         float64\n",
              "Temperature C    float64\n",
              "Room Temp        float64\n",
              "Room Humidity    float64\n",
              "Dry/Wet           object\n",
              "dtype: object"
            ],
            "text/html": [
              "<div>\n",
              "<style scoped>\n",
              "    .dataframe tbody tr th:only-of-type {\n",
              "        vertical-align: middle;\n",
              "    }\n",
              "\n",
              "    .dataframe tbody tr th {\n",
              "        vertical-align: top;\n",
              "    }\n",
              "\n",
              "    .dataframe thead th {\n",
              "        text-align: right;\n",
              "    }\n",
              "</style>\n",
              "<table border=\"1\" class=\"dataframe\">\n",
              "  <thead>\n",
              "    <tr style=\"text-align: right;\">\n",
              "      <th></th>\n",
              "      <th>0</th>\n",
              "    </tr>\n",
              "  </thead>\n",
              "  <tbody>\n",
              "    <tr>\n",
              "      <th>Humidity</th>\n",
              "      <td>float64</td>\n",
              "    </tr>\n",
              "    <tr>\n",
              "      <th>Temperature C</th>\n",
              "      <td>float64</td>\n",
              "    </tr>\n",
              "    <tr>\n",
              "      <th>Room Temp</th>\n",
              "      <td>float64</td>\n",
              "    </tr>\n",
              "    <tr>\n",
              "      <th>Room Humidity</th>\n",
              "      <td>float64</td>\n",
              "    </tr>\n",
              "    <tr>\n",
              "      <th>Dry/Wet</th>\n",
              "      <td>object</td>\n",
              "    </tr>\n",
              "  </tbody>\n",
              "</table>\n",
              "</div><br><label><b>dtype:</b> object</label>"
            ]
          },
          "metadata": {},
          "execution_count": 14
        }
      ]
    },
    {
      "cell_type": "markdown",
      "source": [
        "### Encoading Target Value"
      ],
      "metadata": {
        "id": "kYYPyQYxAcfD"
      }
    },
    {
      "cell_type": "code",
      "source": [
        "unique_result = fab_test['CourseCategory'].unique()\n",
        "print(unique_result)\n"
      ],
      "metadata": {
        "id": "Uv42Ifl6Ah7g"
      },
      "execution_count": null,
      "outputs": []
    },
    {
      "cell_type": "markdown",
      "source": [
        "# Splitting the Dataset"
      ],
      "metadata": {
        "id": "ypagYi2LOnN4"
      }
    },
    {
      "cell_type": "code",
      "source": [
        "X = fab_test.drop(columns='label', axis=1)\n",
        "y = fab_test['label']\n",
        "X_train, X_test, y_train, y_test = train_test_split(X, y, test_size=0.2, random_state=1) # 80% training and 20% test"
      ],
      "metadata": {
        "id": "jjw3HTML2_xY"
      },
      "execution_count": null,
      "outputs": []
    },
    {
      "cell_type": "code",
      "source": [
        "X_train.head(),y_train.head()"
      ],
      "metadata": {
        "id": "Ja4SCD9mVbIp",
        "colab": {
          "base_uri": "https://localhost:8080/"
        },
        "outputId": "eda4f9b7-8cf6-4338-e536-a851d99c66ea"
      },
      "execution_count": null,
      "outputs": [
        {
          "output_type": "execute_result",
          "data": {
            "text/plain": [
              "(     Fabric Humidity  Fabric Temperature  Room Temp  Room Humidity\n",
              " 174             77.1                29.1       31.0           66.5\n",
              " 164             72.1                31.3       31.0           66.5\n",
              " 117             84.2                30.1       30.2           62.3\n",
              " 120             87.3                30.0       30.2           62.3\n",
              " 160             74.5                30.9       31.0           66.5,\n",
              " 174    W\n",
              " 164    D\n",
              " 117    W\n",
              " 120    W\n",
              " 160    D\n",
              " Name: label, dtype: object)"
            ]
          },
          "metadata": {},
          "execution_count": 13
        }
      ]
    },
    {
      "cell_type": "code",
      "source": [
        "X_test.tail(),y_test.tail()"
      ],
      "metadata": {
        "id": "8PGbNfHxUtuw",
        "colab": {
          "base_uri": "https://localhost:8080/"
        },
        "outputId": "0758becd-3b52-44a7-8fe1-f73a5e63c531"
      },
      "execution_count": null,
      "outputs": [
        {
          "output_type": "execute_result",
          "data": {
            "text/plain": [
              "(     Fabric Humidity  Fabric Temperature  Room Temp  Room Humidity\n",
              " 40              84.7                28.8       31.0           73.1\n",
              " 59              70.4                31.8       31.0           73.1\n",
              " 17              73.4                30.9       31.0           73.1\n",
              " 5               73.9                30.8       31.0           73.1\n",
              " 168             77.7                30.0       31.0           66.5,\n",
              " 40     W\n",
              " 59     D\n",
              " 17     D\n",
              " 5      D\n",
              " 168    W\n",
              " Name: label, dtype: object)"
            ]
          },
          "metadata": {},
          "execution_count": 14
        }
      ]
    },
    {
      "cell_type": "markdown",
      "source": [
        "# Checking Accuracy on Training Data Using different Algorithm"
      ],
      "metadata": {
        "id": "7CK1sPDIP6sh"
      }
    },
    {
      "cell_type": "code",
      "source": [
        "#Logistic Regrassion\n",
        "log = LogisticRegression()\n",
        "log.fit(X_train, y_train)\n",
        "X_train_prediction = log.predict(X_train)\n",
        "training_data_accuracy = accuracy_score(y_train, X_train_prediction)\n",
        "print('Logictic Regression Accuracy:', str(round(training_data_accuracy*100,2))+\"%\")"
      ],
      "metadata": {
        "id": "8yJJd6lcz5ol",
        "colab": {
          "base_uri": "https://localhost:8080/"
        },
        "outputId": "6539f8df-3291-474c-f75a-32efa9a492d7"
      },
      "execution_count": null,
      "outputs": [
        {
          "output_type": "stream",
          "name": "stdout",
          "text": [
            "Logictic Regression Accuracy: 99.31%\n"
          ]
        }
      ]
    },
    {
      "cell_type": "code",
      "source": [
        "#Decision Tree\n",
        "tree=DecisionTreeClassifier(random_state=0,criterion=\"gini\", max_depth = 2)\n",
        "tree.fit(X_train,y_train)\n",
        "X_train_prediction = tree.predict(X_train)\n",
        "training_data_accuracy = tree.score(X_train,y_train)\n",
        "print('Decision Tree accuracy:',str(round(training_data_accuracy*100,2))+\"%\")"
      ],
      "metadata": {
        "colab": {
          "base_uri": "https://localhost:8080/"
        },
        "id": "tbH78BJmLXrE",
        "outputId": "6c63f2d0-8f1a-4e11-9a8d-d1507e238e67"
      },
      "execution_count": null,
      "outputs": [
        {
          "output_type": "stream",
          "name": "stdout",
          "text": [
            "Decision Tree accuracy: 98.62%\n"
          ]
        }
      ]
    },
    {
      "cell_type": "markdown",
      "source": [
        "# Using Logistic Regrassion on Testing Data"
      ],
      "metadata": {
        "id": "W95uNwCPNIeL"
      }
    },
    {
      "cell_type": "code",
      "source": [
        "# accuracy on test data\n",
        "X_test_prediction = log.predict(X_test)\n",
        "test_data_accuracy = accuracy_score(y_test, X_test_prediction)\n",
        "print('Test Data Accuracy:', str(round(test_data_accuracy*100,2))+\"%\")"
      ],
      "metadata": {
        "id": "i03AjV969TnL",
        "colab": {
          "base_uri": "https://localhost:8080/"
        },
        "outputId": "5f898e21-9583-435e-d9b7-9774c715cb5e"
      },
      "execution_count": null,
      "outputs": [
        {
          "output_type": "stream",
          "name": "stdout",
          "text": [
            "Test Data Accuracy: 97.3%\n"
          ]
        }
      ]
    },
    {
      "cell_type": "markdown",
      "source": [
        "# Confusion Matrix"
      ],
      "metadata": {
        "id": "Yp3aO5ayOKzp"
      }
    },
    {
      "cell_type": "code",
      "source": [
        "y_predict = log.predict(X_test)\n",
        "cnf_matrix=confusion_matrix(y_test,y_predict)\n",
        "plot_confusion_matrix(conf_mat=cnf_matrix,show_absolute=True,\n",
        "                      show_normed=True,\n",
        "                      colorbar=True)\n",
        "plt.show()"
      ],
      "metadata": {
        "colab": {
          "base_uri": "https://localhost:8080/",
          "height": 455
        },
        "id": "44KFJnt-5uBs",
        "outputId": "d54b2334-2fa0-4b7e-8b05-7b8e1fa8a03c"
      },
      "execution_count": null,
      "outputs": [
        {
          "output_type": "display_data",
          "data": {
            "text/plain": [
              "<Figure size 640x480 with 2 Axes>"
            ],
            "image/png": "[encoded data removed]"
          },
          "metadata": {}
        }
      ]
    },
    {
      "cell_type": "markdown",
      "source": [
        "# Checking With a Random data form the Dataset"
      ],
      "metadata": {
        "id": "109lhq0vNewC"
      }
    },
    {
      "cell_type": "code",
      "source": [
        "data = (82.7, 30.2, 30.2, 62.3)\n",
        "data_np_array = np.asarray(data)\n",
        "data_reshaped = data_np_array.reshape(1,-1)\n",
        "prediction = log.predict(data_reshaped)\n",
        "\n",
        "if (prediction[0] == \"D\"):\n",
        "    print('This Fabrics is DRY')\n",
        "\n",
        "if (prediction[0] == \"W\"):\n",
        "    print('This Fabrics is WET')"
      ],
      "metadata": {
        "colab": {
          "base_uri": "https://localhost:8080/"
        },
        "id": "dT2vLjn69giy",
        "outputId": "f4c49025-6525-4129-a6e0-bbcf823ccd42"
      },
      "execution_count": null,
      "outputs": [
        {
          "output_type": "stream",
          "name": "stdout",
          "text": [
            "This Fabrics is WET\n"
          ]
        }
      ]
    },
    {
      "cell_type": "code",
      "source": [
        "data = (73.9, 30.8, 31, 73.1)\n",
        "data_np_array = np.asarray(data)\n",
        "data_reshaped = data_np_array.reshape(1,-1)\n",
        "prediction = log.predict(data_reshaped)\n",
        "\n",
        "if (prediction[0] == \"D\"):\n",
        "    print('This Fabrics is DRY')\n",
        "\n",
        "if (prediction[0] == \"W\"):\n",
        "    print('This Fabrics is WET')"
      ],
      "metadata": {
        "id": "6ntUyS7mR-NA",
        "colab": {
          "base_uri": "https://localhost:8080/"
        },
        "outputId": "09eb3dc8-ad18-4b5f-d79a-ed99256d2f0a"
      },
      "execution_count": null,
      "outputs": [
        {
          "output_type": "stream",
          "name": "stdout",
          "text": [
            "This Fabrics is DRY\n"
          ]
        }
      ]
    },
    {
      "cell_type": "code",
      "source": [
        "data = (77.7, 30, 31, 66.5)\n",
        "data_np_array = np.asarray(data)\n",
        "data_reshaped = data_np_array.reshape(1,-1)\n",
        "prediction = log.predict(data_reshaped)\n",
        "\n",
        "if (prediction[0] == \"D\"):\n",
        "    print('This Fabrics is DRY')\n",
        "\n",
        "if (prediction[0] == \"W\"):\n",
        "    print('This Fabrics is WET')"
      ],
      "metadata": {
        "colab": {
          "base_uri": "https://localhost:8080/"
        },
        "id": "4XJg101JT2Ol",
        "outputId": "f063be4b-8a0c-4ef4-dd72-25f4005b8fdd"
      },
      "execution_count": null,
      "outputs": [
        {
          "output_type": "stream",
          "name": "stdout",
          "text": [
            "This Fabrics is WET\n"
          ]
        }
      ]
    },
    {
      "cell_type": "code",
      "source": [],
      "metadata": {
        "id": "g-CXF7K3T6PD"
      },
      "execution_count": null,
      "outputs": []
    }
  ]
}